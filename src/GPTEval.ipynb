{
  "nbformat": 4,
  "nbformat_minor": 0,
  "metadata": {
    "colab": {
      "provenance": []
    },
    "kernelspec": {
      "name": "python3",
      "display_name": "Python 3"
    },
    "language_info": {
      "name": "python"
    }
  },
  "cells": [
    {
      "cell_type": "code",
      "execution_count": null,
      "metadata": {
        "id": "nuoESb6hFvnE"
      },
      "outputs": [],
      "source": [
        "import os\n",
        "import json\n",
        "from sklearn.metrics import accuracy_score, precision_score, recall_score, f1_score\n",
        "import numpy as np"
      ]
    },
    {
      "cell_type": "code",
      "source": [
        "def load_json_files(folder_path, contador):\n",
        "    data = []\n",
        "    try:\n",
        "      for filename in os.listdir(folder_path):\n",
        "          if filename.endswith(\".json\"):\n",
        "              with open(os.path.join(folder_path, filename), 'r') as file:\n",
        "                  json_data = json.load(file)\n",
        "                  data.append(json_data)\n",
        "    except Exception as e:\n",
        "      print(f\"Error counting files in {folder_path+filename}: {e}\")\n",
        "      print(contador)\n",
        "      contador +=1\n",
        "    return data"
      ],
      "metadata": {
        "id": "RcGjoQ_vGbwe"
      },
      "execution_count": null,
      "outputs": []
    },
    {
      "cell_type": "code",
      "source": [
        "test_pos_data = load_json_files('/content/drive/MyDrive/Faculdade/6o Periodo/outputsGPT/test/pos', 0)\n",
        "test_neg_data = load_json_files('/content/drive/MyDrive/Faculdade/6o Periodo/outputsGPT/test/neg', 0)"
      ],
      "metadata": {
        "id": "_PVoQ9JLHEds"
      },
      "execution_count": null,
      "outputs": []
    },
    {
      "cell_type": "code",
      "source": [
        "data = test_pos_data + test_neg_data\n",
        "\n",
        "import random\n",
        "random.shuffle(data)"
      ],
      "metadata": {
        "id": "6Vs8cQaNHIvX"
      },
      "execution_count": null,
      "outputs": []
    },
    {
      "cell_type": "code",
      "source": [
        "print(len(data))"
      ],
      "metadata": {
        "id": "1jKpuUN-Hnnq"
      },
      "execution_count": null,
      "outputs": []
    },
    {
      "cell_type": "code",
      "source": [
        "y_true = np.array([item['label'] for item in data])\n",
        "y_pred = np.array([item['labelGPT'] for item in data])"
      ],
      "metadata": {
        "id": "bUHdzRiEHXjU"
      },
      "execution_count": null,
      "outputs": []
    },
    {
      "cell_type": "code",
      "source": [
        "accuracy = accuracy_score(y_true, y_pred)\n",
        "print(f'Accuracy: {accuracy:.2f}')\n",
        "\n",
        "precision = precision_score(y_true, y_pred)\n",
        "print(f'Precision: {precision:.2f}')\n",
        "\n",
        "recall = recall_score(y_true, y_pred)\n",
        "print(f'Recall: {recall:.2f}')\n",
        "\n",
        "f1 = f1_score(y_true, y_pred)\n",
        "print(f'F1 Score: {f1:.2f}')"
      ],
      "metadata": {
        "id": "WH-nOvqIIz9a"
      },
      "execution_count": null,
      "outputs": []
    }
  ]
}